{
  "nbformat": 4,
  "nbformat_minor": 0,
  "metadata": {
    "colab": {
      "provenance": []
    },
    "kernelspec": {
      "name": "python3",
      "display_name": "Python 3"
    },
    "language_info": {
      "name": "python"
    },
    "accelerator": "GPU",
    "gpuClass": "standard"
  },
  "cells": [
    {
      "cell_type": "markdown",
      "source": [
        "#초기 세팅"
      ],
      "metadata": {
        "id": "LXqHtCQJuWlL"
      }
    },
    {
      "cell_type": "markdown",
      "source": [
        "##모델 돌릴 사진"
      ],
      "metadata": {
        "id": "w3creQsffUwH"
      }
    },
    {
      "cell_type": "code",
      "source": [
        "!mkdir Input"
      ],
      "metadata": {
        "id": "15PdGpJ0fe1A"
      },
      "execution_count": null,
      "outputs": []
    },
    {
      "cell_type": "markdown",
      "source": [
        "## 싸키 팀 프로젝트 깃 저장소 다운로드"
      ],
      "metadata": {
        "id": "yIq4S8YROVFu"
      }
    },
    {
      "cell_type": "code",
      "source": [
        "!git clone https://github.com/scienkipia/saki.git"
      ],
      "metadata": {
        "id": "y3GYXA3_D6vA"
      },
      "execution_count": null,
      "outputs": []
    },
    {
      "cell_type": "markdown",
      "source": [
        "## 필요 라이브러리 설치"
      ],
      "metadata": {
        "id": "n2UpPr7jQvvQ"
      }
    },
    {
      "cell_type": "code",
      "source": [
        "#OCR 모델\n",
        "!pip install timm"
      ],
      "metadata": {
        "id": "hLvDUs4Nzu92"
      },
      "execution_count": null,
      "outputs": []
    },
    {
      "cell_type": "code",
      "source": [
        "#번역 필요할 때\n",
        "!pip install googletrans==4.0.0-rc1"
      ],
      "metadata": {
        "id": "jR55vGkx6sJc"
      },
      "execution_count": null,
      "outputs": []
    },
    {
      "cell_type": "code",
      "source": [
        "#KoBART 모델\n",
        "!pip install torch\n",
        "!pip install transformers\n",
        "!pip install streamlit"
      ],
      "metadata": {
        "id": "bAPHmgkDmnuu"
      },
      "execution_count": null,
      "outputs": []
    },
    {
      "cell_type": "markdown",
      "source": [
        "##필요 파일 설치"
      ],
      "metadata": {
        "id": "TBUslLxoRHNR"
      }
    },
    {
      "cell_type": "code",
      "source": [
        "#BSRGAN\n",
        "\n",
        "#BSRGANx2.pth (2배 모델)\n",
        "!python3 -m gdown.cli \"https://drive.google.com/uc?id=1-UX3hKdHiFeKS8wVuomRARqEiofseMZH&confirm=t\"\n",
        "#BSRGAN.pth (4배 모델)\n",
        "!python3 -m gdown.cli \"https://drive.google.com/uc?id=1-jQHe77VIs8GHEUo1kl8EO8K9R3kPHJy&confirm=t\""
      ],
      "metadata": {
        "id": "yIpE18FcXXde"
      },
      "execution_count": null,
      "outputs": []
    },
    {
      "cell_type": "code",
      "source": [
        "#BSRGAN\n",
        "\n",
        "!mv BSRGANx2.pth ./saki/BSRGAN/model_zoo/\n",
        "!mv BSRGAN.pth ./saki/BSRGAN/model_zoo/"
      ],
      "metadata": {
        "id": "PTZ8VRybXwzL"
      },
      "execution_count": null,
      "outputs": []
    },
    {
      "cell_type": "code",
      "source": [
        "#OCR\n",
        "\n",
        "#best_recognition.pth\n",
        "!python3 -m gdown.cli \"https://drive.google.com/uc?id=14XA0vBg4XvGP0nXIyu_sxaUTkF4IAPJj&confirm=t\"\n",
        "#yolov5l6_detection_1.pt\n",
        "!python3 -m gdown.cli \"https://drive.google.com/uc?id=14NX5g1346bs4_j5VlytT5R7C9I9df9kG&confirm=t\"\n",
        "#yolov5l6_detection_2.pt\n",
        "!python3 -m gdown.cli \"https://drive.google.com/uc?id=17taVI5CrUfi_a2Oo-xf5peZCu_ulHTrf&confirm=t\"\n",
        "#003_realSR_BSRGAN_DFO_s64w8_SwinIR-M_x2_GAN\n",
        "!python3 -m gdown.cli \"https://drive.google.com/uc?id=17aFMEX-UbOKi7P7GLVw26bUYpgy0TxY5&confirm=t\""
      ],
      "metadata": {
        "id": "VQ-7lDfqRUPf"
      },
      "execution_count": null,
      "outputs": []
    },
    {
      "cell_type": "code",
      "source": [
        "#OCR\n",
        "\n",
        "!mv best_recognition.pth ./saki/Korean-OCR/pt_models\n",
        "!mv yolov5l6_detection_1.pt ./saki/Korean-OCR/pt_models\n",
        "!mv yolov5l6_detection_2.pt ./saki/Korean-OCR/pt_models\n",
        "!mv 003_realSR_BSRGAN_DFO_s64w8_SwinIR-M_x2_GAN ./saki/Korean-OCR/pt_models"
      ],
      "metadata": {
        "id": "JUOmiiW2WcQS"
      },
      "execution_count": null,
      "outputs": []
    },
    {
      "cell_type": "markdown",
      "source": [
        "#실행"
      ],
      "metadata": {
        "id": "kDie1qEJutsE"
      }
    },
    {
      "cell_type": "markdown",
      "source": [
        "##사진 불러오기"
      ],
      "metadata": {
        "id": "r9Su3FKhfonL"
      }
    },
    {
      "cell_type": "code",
      "source": [
        "%cd ./saki/BSRGAN\n",
        "!mkdir testsets\n",
        "%cd testsets\n",
        "!mkdir BSRGAN\n",
        "!mv ../../../Input/* ./BSRGAN\n",
        "%cd ../../../"
      ],
      "metadata": {
        "id": "C5nis6Vcfqwl"
      },
      "execution_count": null,
      "outputs": []
    },
    {
      "cell_type": "markdown",
      "source": [
        "## BSRGAN 시작"
      ],
      "metadata": {
        "id": "x4hmwDPVQr3I"
      }
    },
    {
      "cell_type": "code",
      "source": [
        "%cd ./saki/BSRGAN"
      ],
      "metadata": {
        "id": "LXAv-LiWQYXl"
      },
      "execution_count": null,
      "outputs": []
    },
    {
      "cell_type": "code",
      "source": [
        "#BSRGAN x2 모델\n",
        "!python main_test_bsrganx2.py\n",
        "\n",
        "#BSRGAN x4 모델\n",
        "#!python main_test_bsrganx4.py"
      ],
      "metadata": {
        "id": "c2xjJDHIEPei"
      },
      "execution_count": null,
      "outputs": []
    },
    {
      "cell_type": "code",
      "source": [
        "%cd ../../"
      ],
      "metadata": {
        "id": "UFVkT-HUDkcK"
      },
      "execution_count": null,
      "outputs": []
    },
    {
      "cell_type": "markdown",
      "source": [
        "## Super resolution 사진 OCR 디렉토리로 옮기기"
      ],
      "metadata": {
        "id": "JiLjUl2XRdRv"
      }
    },
    {
      "cell_type": "code",
      "source": [
        "%cd ./saki/Korean-OCR"
      ],
      "metadata": {
        "colab": {
          "base_uri": "https://localhost:8080/"
        },
        "id": "CeH8LWC80AtR",
        "outputId": "2292809d-ecdb-4c7b-a8cd-f2bc61eedb02"
      },
      "execution_count": null,
      "outputs": [
        {
          "output_type": "stream",
          "name": "stdout",
          "text": [
            "/content/saki/Korean-OCR\n"
          ]
        }
      ]
    },
    {
      "cell_type": "code",
      "source": [
        "!mkdir input_img"
      ],
      "metadata": {
        "id": "rwTqq97Iu6Y4"
      },
      "execution_count": null,
      "outputs": []
    },
    {
      "cell_type": "code",
      "source": [
        "!mv ../BSRGAN/testsets/BSRGAN_results_x2/* ./input_img\n",
        "!mv ../BSRGAN/testsets/BSRGAN_results_x4/* ./input_img"
      ],
      "metadata": {
        "id": "vtKBj9F0DvLj"
      },
      "execution_count": null,
      "outputs": []
    },
    {
      "cell_type": "markdown",
      "source": [
        "## OCR 시작"
      ],
      "metadata": {
        "id": "zjSdQb4yRjEb"
      }
    },
    {
      "cell_type": "code",
      "source": [
        "!CUDA_VISIBLE_DEVICES=0 python3 demo.py --image_folder ./input_img"
      ],
      "metadata": {
        "id": "2ytCZkhVz9A8"
      },
      "execution_count": null,
      "outputs": []
    },
    {
      "cell_type": "code",
      "source": [
        "%cd ../../"
      ],
      "metadata": {
        "id": "0-S-BYxBnSqn"
      },
      "execution_count": null,
      "outputs": []
    },
    {
      "cell_type": "markdown",
      "source": [
        "##KoBART 시작"
      ],
      "metadata": {
        "id": "q3Y5H-Gmxdnk"
      }
    },
    {
      "cell_type": "code",
      "source": [
        "%cd ./saki/KoBART"
      ],
      "metadata": {
        "id": "RIKnZXiCxgXo"
      },
      "execution_count": null,
      "outputs": []
    },
    {
      "cell_type": "code",
      "source": [
        "!mv ../Korean-OCR/results/result.txt ."
      ],
      "metadata": {
        "id": "uB3Zc3W-xmD3"
      },
      "execution_count": null,
      "outputs": []
    },
    {
      "cell_type": "code",
      "source": [
        "!python app.py"
      ],
      "metadata": {
        "id": "aSknkph4ZfWV"
      },
      "execution_count": null,
      "outputs": []
    },
    {
      "cell_type": "code",
      "source": [
        "%cd ../../"
      ],
      "metadata": {
        "id": "Vi2iYOE0ZtMt"
      },
      "execution_count": null,
      "outputs": []
    },
    {
      "cell_type": "markdown",
      "source": [
        "##결과물 출력"
      ],
      "metadata": {
        "id": "rcMLliqzat8v"
      }
    },
    {
      "cell_type": "code",
      "source": [
        "!mkdir Results\n",
        "%cd ./Results\n",
        "!mkdir BSRGAN\n",
        "!mkdir OCR\n",
        "!mkdir KoBART\n",
        "%cd .."
      ],
      "metadata": {
        "id": "FlU67rwoatJ9"
      },
      "execution_count": null,
      "outputs": []
    },
    {
      "cell_type": "code",
      "source": [
        "#BSRGAN\n",
        "!mv ./saki/BSRGAN/testsets/BSRGAN/* ./Results/BSRGAN\n",
        "!mv ./saki/BSRGAN/testsets/BSRGAN_results_x2/* ./Results/BSRGAN\n",
        "!mv ./saki/BSRGAN/testsets/BSRGAN_results_x4/* ./Results/BSRGAN\n",
        "!mv ./saki/Korean-OCR/input_img/* ./Results/BSRGAN\n",
        "\n",
        "#OCR\n",
        "!mv ./saki/Korean-OCR/results/* ./Results/OCR\n",
        "!mv ./saki/KoBART/result.txt ./Results/OCR\n",
        "\n",
        "#KoBART\n",
        "!mv ./saki/KoBART/summarized.txt ./Results/KoBART"
      ],
      "metadata": {
        "id": "i-aFkF5ya6T6"
      },
      "execution_count": null,
      "outputs": []
    },
    {
      "cell_type": "markdown",
      "source": [
        "##초기화"
      ],
      "metadata": {
        "id": "mW855CFHuJI4"
      }
    },
    {
      "cell_type": "code",
      "source": [
        "#!rm -r Results"
      ],
      "metadata": {
        "id": "KP8PObQc4HFg"
      },
      "execution_count": null,
      "outputs": []
    },
    {
      "cell_type": "code",
      "source": [
        "#!rm -r saki"
      ],
      "metadata": {
        "id": "uBvq6Fh14poK"
      },
      "execution_count": null,
      "outputs": []
    }
  ]
}